{
 "cells": [
  {
   "cell_type": "markdown",
   "metadata": {},
   "source": [
    "# Lab 1\n",
    "\n",
    "Dmytro Geleshko\n",
    "\n",
    "IP-91"
   ]
  },
  {
   "cell_type": "markdown",
   "metadata": {},
   "source": [
    "## Imports"
   ]
  },
  {
   "cell_type": "code",
   "execution_count": 83,
   "metadata": {},
   "outputs": [],
   "source": [
    "import pandas as pd\n",
    "import numpy as np\n",
    "import matplotlib.pyplot as plt"
   ]
  },
  {
   "cell_type": "markdown",
   "metadata": {},
   "source": [
    "## Config"
   ]
  },
  {
   "cell_type": "code",
   "execution_count": 84,
   "metadata": {},
   "outputs": [],
   "source": [
    "pd.options.display.float_format =\"{:,.3f}\".format"
   ]
  },
  {
   "cell_type": "markdown",
   "metadata": {},
   "source": [
    "# Data"
   ]
  },
  {
   "cell_type": "markdown",
   "metadata": {},
   "source": [
    "## Load\n",
    "Loading data as DataFrame using pandas"
   ]
  },
  {
   "cell_type": "code",
   "execution_count": 85,
   "metadata": {},
   "outputs": [
    {
     "data": {
      "text/html": [
       "<div>\n",
       "<style scoped>\n",
       "    .dataframe tbody tr th:only-of-type {\n",
       "        vertical-align: middle;\n",
       "    }\n",
       "\n",
       "    .dataframe tbody tr th {\n",
       "        vertical-align: top;\n",
       "    }\n",
       "\n",
       "    .dataframe thead th {\n",
       "        text-align: right;\n",
       "    }\n",
       "</style>\n",
       "<table border=\"1\" class=\"dataframe\">\n",
       "  <thead>\n",
       "    <tr style=\"text-align: right;\">\n",
       "      <th></th>\n",
       "      <th>ph</th>\n",
       "      <th>Hardness</th>\n",
       "      <th>Solids</th>\n",
       "      <th>Chloramines</th>\n",
       "      <th>Sulfate</th>\n",
       "      <th>Conductivity</th>\n",
       "      <th>Organic_carbon</th>\n",
       "      <th>Trihalomethanes</th>\n",
       "      <th>Turbidity</th>\n",
       "      <th>Potability</th>\n",
       "    </tr>\n",
       "  </thead>\n",
       "  <tbody>\n",
       "    <tr>\n",
       "      <th>0</th>\n",
       "      <td>NaN</td>\n",
       "      <td>204.890</td>\n",
       "      <td>20,791.318</td>\n",
       "      <td>7.300</td>\n",
       "      <td>368.516</td>\n",
       "      <td>564.309</td>\n",
       "      <td>10.380</td>\n",
       "      <td>86.991</td>\n",
       "      <td>2.963</td>\n",
       "      <td>0.000</td>\n",
       "    </tr>\n",
       "    <tr>\n",
       "      <th>1</th>\n",
       "      <td>3.716</td>\n",
       "      <td>129.423</td>\n",
       "      <td>18,630.059</td>\n",
       "      <td>6.635</td>\n",
       "      <td>NaN</td>\n",
       "      <td>592.885</td>\n",
       "      <td>15.180</td>\n",
       "      <td>56.329</td>\n",
       "      <td>4.501</td>\n",
       "      <td>0.000</td>\n",
       "    </tr>\n",
       "    <tr>\n",
       "      <th>2</th>\n",
       "      <td>8.099</td>\n",
       "      <td>224.236</td>\n",
       "      <td>19,909.541</td>\n",
       "      <td>9.276</td>\n",
       "      <td>NaN</td>\n",
       "      <td>418.606</td>\n",
       "      <td>16.869</td>\n",
       "      <td>66.420</td>\n",
       "      <td>3.056</td>\n",
       "      <td>0.000</td>\n",
       "    </tr>\n",
       "    <tr>\n",
       "      <th>3</th>\n",
       "      <td>8.317</td>\n",
       "      <td>214.373</td>\n",
       "      <td>22,018.418</td>\n",
       "      <td>8.059</td>\n",
       "      <td>356.886</td>\n",
       "      <td>363.267</td>\n",
       "      <td>18.437</td>\n",
       "      <td>100.342</td>\n",
       "      <td>4.629</td>\n",
       "      <td>0.000</td>\n",
       "    </tr>\n",
       "    <tr>\n",
       "      <th>4</th>\n",
       "      <td>9.092</td>\n",
       "      <td>181.102</td>\n",
       "      <td>17,978.986</td>\n",
       "      <td>6.547</td>\n",
       "      <td>310.136</td>\n",
       "      <td>398.411</td>\n",
       "      <td>11.558</td>\n",
       "      <td>31.998</td>\n",
       "      <td>4.075</td>\n",
       "      <td>0.000</td>\n",
       "    </tr>\n",
       "    <tr>\n",
       "      <th>...</th>\n",
       "      <td>...</td>\n",
       "      <td>...</td>\n",
       "      <td>...</td>\n",
       "      <td>...</td>\n",
       "      <td>...</td>\n",
       "      <td>...</td>\n",
       "      <td>...</td>\n",
       "      <td>...</td>\n",
       "      <td>...</td>\n",
       "      <td>...</td>\n",
       "    </tr>\n",
       "    <tr>\n",
       "      <th>3271</th>\n",
       "      <td>4.668</td>\n",
       "      <td>193.682</td>\n",
       "      <td>47,580.992</td>\n",
       "      <td>7.167</td>\n",
       "      <td>359.949</td>\n",
       "      <td>526.424</td>\n",
       "      <td>13.894</td>\n",
       "      <td>66.688</td>\n",
       "      <td>4.436</td>\n",
       "      <td>1.000</td>\n",
       "    </tr>\n",
       "    <tr>\n",
       "      <th>3272</th>\n",
       "      <td>7.809</td>\n",
       "      <td>193.553</td>\n",
       "      <td>17,329.803</td>\n",
       "      <td>8.061</td>\n",
       "      <td>NaN</td>\n",
       "      <td>392.450</td>\n",
       "      <td>19.903</td>\n",
       "      <td>NaN</td>\n",
       "      <td>2.798</td>\n",
       "      <td>1.000</td>\n",
       "    </tr>\n",
       "    <tr>\n",
       "      <th>3273</th>\n",
       "      <td>9.420</td>\n",
       "      <td>175.763</td>\n",
       "      <td>33,155.578</td>\n",
       "      <td>7.350</td>\n",
       "      <td>NaN</td>\n",
       "      <td>432.045</td>\n",
       "      <td>11.039</td>\n",
       "      <td>69.845</td>\n",
       "      <td>3.299</td>\n",
       "      <td>1.000</td>\n",
       "    </tr>\n",
       "    <tr>\n",
       "      <th>3274</th>\n",
       "      <td>5.127</td>\n",
       "      <td>230.604</td>\n",
       "      <td>11,983.869</td>\n",
       "      <td>6.303</td>\n",
       "      <td>NaN</td>\n",
       "      <td>402.883</td>\n",
       "      <td>11.169</td>\n",
       "      <td>77.488</td>\n",
       "      <td>4.709</td>\n",
       "      <td>1.000</td>\n",
       "    </tr>\n",
       "    <tr>\n",
       "      <th>3275</th>\n",
       "      <td>7.875</td>\n",
       "      <td>195.102</td>\n",
       "      <td>17,404.178</td>\n",
       "      <td>7.509</td>\n",
       "      <td>NaN</td>\n",
       "      <td>327.460</td>\n",
       "      <td>16.140</td>\n",
       "      <td>78.698</td>\n",
       "      <td>2.309</td>\n",
       "      <td>1.000</td>\n",
       "    </tr>\n",
       "  </tbody>\n",
       "</table>\n",
       "<p>3276 rows × 10 columns</p>\n",
       "</div>"
      ],
      "text/plain": [
       "        ph  Hardness     Solids  Chloramines  Sulfate  Conductivity  \\\n",
       "0      NaN   204.890 20,791.318        7.300  368.516       564.309   \n",
       "1    3.716   129.423 18,630.059        6.635      NaN       592.885   \n",
       "2    8.099   224.236 19,909.541        9.276      NaN       418.606   \n",
       "3    8.317   214.373 22,018.418        8.059  356.886       363.267   \n",
       "4    9.092   181.102 17,978.986        6.547  310.136       398.411   \n",
       "...    ...       ...        ...          ...      ...           ...   \n",
       "3271 4.668   193.682 47,580.992        7.167  359.949       526.424   \n",
       "3272 7.809   193.553 17,329.803        8.061      NaN       392.450   \n",
       "3273 9.420   175.763 33,155.578        7.350      NaN       432.045   \n",
       "3274 5.127   230.604 11,983.869        6.303      NaN       402.883   \n",
       "3275 7.875   195.102 17,404.178        7.509      NaN       327.460   \n",
       "\n",
       "      Organic_carbon  Trihalomethanes  Turbidity  Potability  \n",
       "0             10.380           86.991      2.963       0.000  \n",
       "1             15.180           56.329      4.501       0.000  \n",
       "2             16.869           66.420      3.056       0.000  \n",
       "3             18.437          100.342      4.629       0.000  \n",
       "4             11.558           31.998      4.075       0.000  \n",
       "...              ...              ...        ...         ...  \n",
       "3271          13.894           66.688      4.436       1.000  \n",
       "3272          19.903              NaN      2.798       1.000  \n",
       "3273          11.039           69.845      3.299       1.000  \n",
       "3274          11.169           77.488      4.709       1.000  \n",
       "3275          16.140           78.698      2.309       1.000  \n",
       "\n",
       "[3276 rows x 10 columns]"
      ]
     },
     "execution_count": 85,
     "metadata": {},
     "output_type": "execute_result"
    }
   ],
   "source": [
    "df = pd.read_csv(\"../Data/water_potability.csv\", dtype=np.float32)\n",
    "df"
   ]
  },
  {
   "cell_type": "markdown",
   "metadata": {},
   "source": [
    "## Drop Target\n",
    "Drop target column, used for classification"
   ]
  },
  {
   "cell_type": "code",
   "execution_count": 86,
   "metadata": {},
   "outputs": [],
   "source": [
    "y = df.pop(\"Potability\")"
   ]
  },
  {
   "cell_type": "markdown",
   "metadata": {},
   "source": [
    "## Info\n",
    "Get some info about data"
   ]
  },
  {
   "cell_type": "code",
   "execution_count": 87,
   "metadata": {},
   "outputs": [
    {
     "name": "stdout",
     "output_type": "stream",
     "text": [
      "<class 'pandas.core.frame.DataFrame'>\n",
      "RangeIndex: 3276 entries, 0 to 3275\n",
      "Data columns (total 9 columns):\n",
      " #   Column           Non-Null Count  Dtype  \n",
      "---  ------           --------------  -----  \n",
      " 0   ph               2785 non-null   float32\n",
      " 1   Hardness         3276 non-null   float32\n",
      " 2   Solids           3276 non-null   float32\n",
      " 3   Chloramines      3276 non-null   float32\n",
      " 4   Sulfate          2495 non-null   float32\n",
      " 5   Conductivity     3276 non-null   float32\n",
      " 6   Organic_carbon   3276 non-null   float32\n",
      " 7   Trihalomethanes  3114 non-null   float32\n",
      " 8   Turbidity        3276 non-null   float32\n",
      "dtypes: float32(9)\n",
      "memory usage: 115.3 KB\n"
     ]
    }
   ],
   "source": [
    "df.info()"
   ]
  },
  {
   "cell_type": "markdown",
   "metadata": {},
   "source": [
    "## Drop NaN\n",
    "Drop rows where at least one column contains Nan"
   ]
  },
  {
   "cell_type": "code",
   "execution_count": 88,
   "metadata": {},
   "outputs": [
    {
     "name": "stdout",
     "output_type": "stream",
     "text": [
      "<class 'pandas.core.frame.DataFrame'>\n",
      "Int64Index: 2011 entries, 3 to 3271\n",
      "Data columns (total 9 columns):\n",
      " #   Column           Non-Null Count  Dtype  \n",
      "---  ------           --------------  -----  \n",
      " 0   ph               2011 non-null   float32\n",
      " 1   Hardness         2011 non-null   float32\n",
      " 2   Solids           2011 non-null   float32\n",
      " 3   Chloramines      2011 non-null   float32\n",
      " 4   Sulfate          2011 non-null   float32\n",
      " 5   Conductivity     2011 non-null   float32\n",
      " 6   Organic_carbon   2011 non-null   float32\n",
      " 7   Trihalomethanes  2011 non-null   float32\n",
      " 8   Turbidity        2011 non-null   float32\n",
      "dtypes: float32(9)\n",
      "memory usage: 86.4 KB\n"
     ]
    }
   ],
   "source": [
    "df.dropna(inplace=True)\n",
    "df.info()"
   ]
  },
  {
   "cell_type": "markdown",
   "metadata": {},
   "source": [
    "## Stats\n",
    "Get stats about our data"
   ]
  },
  {
   "cell_type": "code",
   "execution_count": 89,
   "metadata": {},
   "outputs": [
    {
     "data": {
      "text/html": [
       "<div>\n",
       "<style scoped>\n",
       "    .dataframe tbody tr th:only-of-type {\n",
       "        vertical-align: middle;\n",
       "    }\n",
       "\n",
       "    .dataframe tbody tr th {\n",
       "        vertical-align: top;\n",
       "    }\n",
       "\n",
       "    .dataframe thead th {\n",
       "        text-align: right;\n",
       "    }\n",
       "</style>\n",
       "<table border=\"1\" class=\"dataframe\">\n",
       "  <thead>\n",
       "    <tr style=\"text-align: right;\">\n",
       "      <th></th>\n",
       "      <th>count</th>\n",
       "      <th>mean</th>\n",
       "      <th>std</th>\n",
       "      <th>min</th>\n",
       "      <th>25%</th>\n",
       "      <th>50%</th>\n",
       "      <th>75%</th>\n",
       "      <th>max</th>\n",
       "      <th>var</th>\n",
       "      <th>mode</th>\n",
       "    </tr>\n",
       "  </thead>\n",
       "  <tbody>\n",
       "    <tr>\n",
       "      <th>ph</th>\n",
       "      <td>2,011.000</td>\n",
       "      <td>7.086</td>\n",
       "      <td>1.573</td>\n",
       "      <td>0.227</td>\n",
       "      <td>6.090</td>\n",
       "      <td>7.027</td>\n",
       "      <td>8.053</td>\n",
       "      <td>14.000</td>\n",
       "      <td>2.475</td>\n",
       "      <td>7.370</td>\n",
       "    </tr>\n",
       "    <tr>\n",
       "      <th>Hardness</th>\n",
       "      <td>2,011.000</td>\n",
       "      <td>195.968</td>\n",
       "      <td>32.635</td>\n",
       "      <td>73.492</td>\n",
       "      <td>176.745</td>\n",
       "      <td>197.192</td>\n",
       "      <td>216.441</td>\n",
       "      <td>317.338</td>\n",
       "      <td>1,065.049</td>\n",
       "      <td>208.910</td>\n",
       "    </tr>\n",
       "    <tr>\n",
       "      <th>Solids</th>\n",
       "      <td>2,011.000</td>\n",
       "      <td>21,917.439</td>\n",
       "      <td>8,642.240</td>\n",
       "      <td>320.943</td>\n",
       "      <td>15,615.665</td>\n",
       "      <td>20,933.514</td>\n",
       "      <td>27,182.588</td>\n",
       "      <td>56,488.672</td>\n",
       "      <td>74,688,316.269</td>\n",
       "      <td>13,742.140</td>\n",
       "    </tr>\n",
       "    <tr>\n",
       "      <th>Chloramines</th>\n",
       "      <td>2,011.000</td>\n",
       "      <td>7.134</td>\n",
       "      <td>1.585</td>\n",
       "      <td>1.391</td>\n",
       "      <td>6.139</td>\n",
       "      <td>7.144</td>\n",
       "      <td>8.110</td>\n",
       "      <td>13.127</td>\n",
       "      <td>2.512</td>\n",
       "      <td>6.610</td>\n",
       "    </tr>\n",
       "    <tr>\n",
       "      <th>Sulfate</th>\n",
       "      <td>2,011.000</td>\n",
       "      <td>333.225</td>\n",
       "      <td>41.205</td>\n",
       "      <td>129.000</td>\n",
       "      <td>307.633</td>\n",
       "      <td>332.232</td>\n",
       "      <td>359.331</td>\n",
       "      <td>481.031</td>\n",
       "      <td>1,697.866</td>\n",
       "      <td>318.790</td>\n",
       "    </tr>\n",
       "    <tr>\n",
       "      <th>Conductivity</th>\n",
       "      <td>2,011.000</td>\n",
       "      <td>426.526</td>\n",
       "      <td>80.713</td>\n",
       "      <td>201.620</td>\n",
       "      <td>366.680</td>\n",
       "      <td>423.456</td>\n",
       "      <td>482.373</td>\n",
       "      <td>753.343</td>\n",
       "      <td>6,514.519</td>\n",
       "      <td>402.660</td>\n",
       "    </tr>\n",
       "    <tr>\n",
       "      <th>Organic_carbon</th>\n",
       "      <td>2,011.000</td>\n",
       "      <td>14.358</td>\n",
       "      <td>3.325</td>\n",
       "      <td>2.200</td>\n",
       "      <td>12.124</td>\n",
       "      <td>14.322</td>\n",
       "      <td>16.683</td>\n",
       "      <td>27.007</td>\n",
       "      <td>11.055</td>\n",
       "      <td>14.350</td>\n",
       "    </tr>\n",
       "    <tr>\n",
       "      <th>Trihalomethanes</th>\n",
       "      <td>2,011.000</td>\n",
       "      <td>66.401</td>\n",
       "      <td>16.077</td>\n",
       "      <td>8.577</td>\n",
       "      <td>55.953</td>\n",
       "      <td>66.542</td>\n",
       "      <td>77.292</td>\n",
       "      <td>124.000</td>\n",
       "      <td>258.473</td>\n",
       "      <td>55.400</td>\n",
       "    </tr>\n",
       "    <tr>\n",
       "      <th>Turbidity</th>\n",
       "      <td>2,011.000</td>\n",
       "      <td>3.970</td>\n",
       "      <td>0.780</td>\n",
       "      <td>1.450</td>\n",
       "      <td>3.443</td>\n",
       "      <td>3.968</td>\n",
       "      <td>4.514</td>\n",
       "      <td>6.495</td>\n",
       "      <td>0.609</td>\n",
       "      <td>3.920</td>\n",
       "    </tr>\n",
       "  </tbody>\n",
       "</table>\n",
       "</div>"
      ],
      "text/plain": [
       "                    count       mean       std     min        25%        50%  \\\n",
       "ph              2,011.000      7.086     1.573   0.227      6.090      7.027   \n",
       "Hardness        2,011.000    195.968    32.635  73.492    176.745    197.192   \n",
       "Solids          2,011.000 21,917.439 8,642.240 320.943 15,615.665 20,933.514   \n",
       "Chloramines     2,011.000      7.134     1.585   1.391      6.139      7.144   \n",
       "Sulfate         2,011.000    333.225    41.205 129.000    307.633    332.232   \n",
       "Conductivity    2,011.000    426.526    80.713 201.620    366.680    423.456   \n",
       "Organic_carbon  2,011.000     14.358     3.325   2.200     12.124     14.322   \n",
       "Trihalomethanes 2,011.000     66.401    16.077   8.577     55.953     66.542   \n",
       "Turbidity       2,011.000      3.970     0.780   1.450      3.443      3.968   \n",
       "\n",
       "                       75%        max            var       mode  \n",
       "ph                   8.053     14.000          2.475      7.370  \n",
       "Hardness           216.441    317.338      1,065.049    208.910  \n",
       "Solids          27,182.588 56,488.672 74,688,316.269 13,742.140  \n",
       "Chloramines          8.110     13.127          2.512      6.610  \n",
       "Sulfate            359.331    481.031      1,697.866    318.790  \n",
       "Conductivity       482.373    753.343      6,514.519    402.660  \n",
       "Organic_carbon      16.683     27.007         11.055     14.350  \n",
       "Trihalomethanes     77.292    124.000        258.473     55.400  \n",
       "Turbidity            4.514      6.495          0.609      3.920  "
      ]
     },
     "execution_count": 89,
     "metadata": {},
     "output_type": "execute_result"
    }
   ],
   "source": [
    "df_stats = df.describe().T\n",
    "df_stats[\"var\"] = np.square(df_stats[\"std\"].values)\n",
    "df_stats[\"mode\"] = df.round(2).mode().iloc[0]\n",
    "df_stats"
   ]
  },
  {
   "cell_type": "markdown",
   "metadata": {},
   "source": [
    "# Plots\n",
    "Plot histograms and their mean for all columns"
   ]
  },
  {
   "cell_type": "code",
   "execution_count": 90,
   "metadata": {},
   "outputs": [
    {
     "data": {
      "image/png": "[encoded data removed]",
      "text/plain": [
       "<Figure size 1296x1296 with 9 Axes>"
      ]
     },
     "metadata": {
      "needs_background": "light"
     },
     "output_type": "display_data"
    }
   ],
   "source": [
    "plt.rcParams[\"figure.figsize\"] = (18, 18)\n",
    "\n",
    "fig, axes = plt.subplots(3, 3)\n",
    "for i in range(3):\n",
    "    for j in range(3):\n",
    "        column = df.columns[i*3 + j]\n",
    "        axes[i, j].set_title(column)\n",
    "        axes[i, j].hist(df[column])\n",
    "        axes[i, j].axvline(df_stats[\"mean\"].loc[column], color=\"red\", linestyle=\"--\")\n",
    "plt.show()"
   ]
  },
  {
   "cell_type": "markdown",
   "metadata": {},
   "source": [
    "# The End"
   ]
  }
 ],
 "metadata": {
  "interpreter": {
   "hash": "3eea31532cdeb76b55d4e55e58995476a962b2cf098db0698c37384ba00f3450"
  },
  "kernelspec": {
   "display_name": "Python 3.9.7 64-bit ('analysis': conda)",
   "language": "python",
   "name": "python3"
  },
  "language_info": {
   "codemirror_mode": {
    "name": "ipython",
    "version": 3
   },
   "file_extension": ".py",
   "mimetype": "text/x-python",
   "name": "python",
   "nbconvert_exporter": "python",
   "pygments_lexer": "ipython3",
   "version": "3.9.7"
  },
  "orig_nbformat": 4
 },
 "nbformat": 4,
 "nbformat_minor": 2
}
